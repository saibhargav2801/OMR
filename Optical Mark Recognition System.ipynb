{
 "cells": [
  {
   "cell_type": "markdown",
   "id": "53ff59ff",
   "metadata": {},
   "source": [
    "Optical Mark Recognition, or OMR for short, is the process of automatically analyzing human-marked documents and interpreting their results."
   ]
  },
  {
   "cell_type": "code",
   "execution_count": 2,
   "id": "cc3be6d2",
   "metadata": {},
   "outputs": [],
   "source": [
    "import cv2\n",
    "import numpy as np\n",
    "import imutils"
   ]
  },
  {
   "cell_type": "code",
   "execution_count": 3,
   "id": "91e68c9c",
   "metadata": {},
   "outputs": [],
   "source": [
    "def orderpoints(pts):\n",
    "    #points in the order of topleft-topright-bottomright-bottomleft\n",
    "    rect = np.zeros((4,2),dtype=\"float32\")\n",
    "    sum = np.sum(pts,axis=1)\n",
    "    rect[0] = pts[np.argmin(sum)]\n",
    "    rect[2] = pts[np.argmax(sum)]\n",
    "    diff = np.diff(pts,axis=1)\n",
    "    rect[3] = pts[np.argmax(diff)]\n",
    "    rect[1] = pts[np.argmin(diff)]\n",
    "    return rect\n",
    "def fourptstransform(image,pts):\n",
    "    rect = orderpoints(pts)\n",
    "    \n",
    "    (tl,tr,br,bl) = rect\n",
    "    \n",
    "    widthA = np.sqrt(((br[0] - bl[0]) ** 2) + ((br[1] - bl[1]) ** 2))\n",
    "    widthB = np.sqrt(((tr[0] - tl[0]) ** 2) + ((tr[1] - tl[1]) ** 2))\n",
    "    maxWidth = max(int(widthA), int(widthB))\n",
    "    \n",
    "    heightA = np.sqrt(((tr[0] - br[0]) ** 2) + ((tr[1] - br[1]) ** 2))\n",
    "    heightB = np.sqrt(((tl[0] - bl[0]) ** 2) + ((tl[1] - bl[1]) ** 2))\n",
    "    maxHeight = max(int(heightA), int(heightB))\n",
    "    \n",
    "    dst = np.array([\n",
    "        [0, 0],\n",
    "        [maxWidth - 1, 0],\n",
    "        [maxWidth - 1, maxHeight - 1],\n",
    "        [0, maxHeight - 1]], dtype = \"float32\")\n",
    "    M = cv2.getPerspectiveTransform(rect, dst)\n",
    "    warped = cv2.warpPerspective(image, M, (maxWidth, maxHeight))\n",
    "    \n",
    "    return warped"
   ]
  },
  {
   "cell_type": "code",
   "execution_count": 4,
   "id": "f28df716",
   "metadata": {},
   "outputs": [],
   "source": [
    "image = cv2.imread('omr_test_01.png')"
   ]
  },
  {
   "cell_type": "code",
   "execution_count": 5,
   "id": "1d1e4e0c",
   "metadata": {},
   "outputs": [],
   "source": [
    "while True:\n",
    "    cv2.imshow('image',image)\n",
    "    if cv2.waitKey(1) & 0XFF==27:\n",
    "        break\n",
    "cv2.destroyAllWindows()"
   ]
  },
  {
   "cell_type": "code",
   "execution_count": 7,
   "id": "800f9aeb",
   "metadata": {},
   "outputs": [],
   "source": [
    "gray = cv2.cvtColor(image,cv2.COLOR_BGR2GRAY)"
   ]
  },
  {
   "cell_type": "code",
   "execution_count": 391,
   "id": "2fa2b9a1",
   "metadata": {},
   "outputs": [],
   "source": [
    "edges1 = cv2.Canny(gray,75,200)"
   ]
  },
  {
   "cell_type": "code",
   "execution_count": 392,
   "id": "68e61ae1",
   "metadata": {},
   "outputs": [],
   "source": [
    "blur = cv2.GaussianBlur(gray,(5,5),0)"
   ]
  },
  {
   "cell_type": "code",
   "execution_count": 393,
   "id": "5eade8b8",
   "metadata": {},
   "outputs": [],
   "source": [
    "edges2 = cv2.Canny(blur,75,200)"
   ]
  },
  {
   "cell_type": "code",
   "execution_count": 394,
   "id": "5e79b780",
   "metadata": {},
   "outputs": [],
   "source": [
    "while True:\n",
    "    cv2.imshow('edge1',edges1)\n",
    "    cv2.imshow('edge2',edges2)\n",
    "    if cv2.waitKey(1) & 0XFF==27:\n",
    "        break\n",
    "cv2.destroyAllWindows()"
   ]
  },
  {
   "cell_type": "code",
   "execution_count": 13,
   "id": "3bbf405e",
   "metadata": {},
   "outputs": [],
   "source": [
    "cnts,h = cv2.findContours(edges2,cv2.RETR_EXTERNAL,cv2.CHAIN_APPROX_SIMPLE)"
   ]
  },
  {
   "cell_type": "code",
   "execution_count": 395,
   "id": "4a3342c2",
   "metadata": {},
   "outputs": [],
   "source": [
    "for c in cnts:\n",
    "    peri = cv2.arcLength(c,True)\n",
    "    approx = cv2.approxPolyDP(c,0.02*peri,True)\n",
    "    if len(approx)==4:\n",
    "        drawcnts = approx\n",
    "        break"
   ]
  },
  {
   "cell_type": "code",
   "execution_count": 396,
   "id": "92f41462",
   "metadata": {},
   "outputs": [
    {
     "data": {
      "text/plain": [
       "array([[[131, 206]],\n",
       "\n",
       "       [[119, 617]],\n",
       "\n",
       "       [[448, 614]],\n",
       "\n",
       "       [[430, 208]]], dtype=int32)"
      ]
     },
     "execution_count": 396,
     "metadata": {},
     "output_type": "execute_result"
    }
   ],
   "source": [
    "drawcnts"
   ]
  },
  {
   "cell_type": "code",
   "execution_count": 397,
   "id": "53a255f1",
   "metadata": {},
   "outputs": [],
   "source": [
    "draw = drawcnts.ravel()"
   ]
  },
  {
   "cell_type": "code",
   "execution_count": 398,
   "id": "2340e2b9",
   "metadata": {},
   "outputs": [],
   "source": [
    "draw = draw.reshape(4,2)"
   ]
  },
  {
   "cell_type": "code",
   "execution_count": 399,
   "id": "8bdda984",
   "metadata": {},
   "outputs": [
    {
     "data": {
      "text/plain": [
       "array([[131, 206],\n",
       "       [119, 617],\n",
       "       [448, 614],\n",
       "       [430, 208]], dtype=int32)"
      ]
     },
     "execution_count": 399,
     "metadata": {},
     "output_type": "execute_result"
    }
   ],
   "source": [
    "draw"
   ]
  },
  {
   "cell_type": "code",
   "execution_count": 400,
   "id": "d2ceae37",
   "metadata": {},
   "outputs": [],
   "source": [
    "wrap = fourptstransform(image,draw)"
   ]
  },
  {
   "cell_type": "code",
   "execution_count": 401,
   "id": "f1912aaa",
   "metadata": {},
   "outputs": [],
   "source": [
    "while True:\n",
    "    cv2.imshow('wrap',wrap)\n",
    "    cv2.imshow('image',image)\n",
    "    if cv2.waitKey(1) & 0XFF==27:\n",
    "        break\n",
    "cv2.destroyAllWindows()"
   ]
  },
  {
   "cell_type": "code",
   "execution_count": 402,
   "id": "319c7b0f",
   "metadata": {},
   "outputs": [],
   "source": [
    "wrap_gray = cv2.cvtColor(wrap,cv2.COLOR_BGR2GRAY)"
   ]
  },
  {
   "cell_type": "code",
   "execution_count": 403,
   "id": "1f30f2e2",
   "metadata": {},
   "outputs": [],
   "source": [
    "ret,wrap_thres = cv2.threshold(wrap_gray,145,255,cv2.THRESH_BINARY_INV | cv2.THRESH_OTSU)"
   ]
  },
  {
   "cell_type": "markdown",
   "id": "8c9296db",
   "metadata": {},
   "source": [
    "Threshol Otsu will remove the background form our fore ground which helps us to reduce the noise"
   ]
  },
  {
   "cell_type": "code",
   "execution_count": 404,
   "id": "95974084",
   "metadata": {},
   "outputs": [],
   "source": [
    "while True:\n",
    "    cv2.imshow('wrap',wrap_thres)\n",
    "    \n",
    "    if cv2.waitKey(1) & 0XFF==27:\n",
    "        break\n",
    "cv2.destroyAllWindows()"
   ]
  },
  {
   "cell_type": "code",
   "execution_count": 405,
   "id": "630e31c8",
   "metadata": {},
   "outputs": [],
   "source": [
    "contours,h = cv2.findContours(wrap_thres,cv2.RETR_EXTERNAL,cv2.CHAIN_APPROX_SIMPLE)"
   ]
  },
  {
   "cell_type": "code",
   "execution_count": 406,
   "id": "09f6e677",
   "metadata": {},
   "outputs": [],
   "source": [
    "qpts = []\n",
    "for c in contours:\n",
    "    (x,y,w,h) = cv2.boundingRect(c)\n",
    "    \n",
    "    ar = w/float(h)\n",
    "    \n",
    "    if w>=20 and h>=20 and ar>=0.9 and ar<=1.1:\n",
    "        qpts.append(c)"
   ]
  },
  {
   "cell_type": "markdown",
   "id": "9b9783da",
   "metadata": {},
   "source": [
    "We want to basically add circles around our bubble sheet so each bubbles bounding box will be an approximated square so what we do is we actually create an aspect ration and maintain its value in between 0.9 to 1.1 and check for width and height to be sufficenlty large"
   ]
  },
  {
   "cell_type": "code",
   "execution_count": 407,
   "id": "a22141d8",
   "metadata": {},
   "outputs": [
    {
     "data": {
      "text/plain": [
       "(411, 329)"
      ]
     },
     "execution_count": 407,
     "metadata": {},
     "output_type": "execute_result"
    }
   ],
   "source": [
    "wrap_thres.shape"
   ]
  },
  {
   "cell_type": "code",
   "execution_count": 408,
   "id": "1dbf9c3d",
   "metadata": {},
   "outputs": [],
   "source": [
    "import matplotlib.pyplot as plt"
   ]
  },
  {
   "cell_type": "code",
   "execution_count": 409,
   "id": "e31e19df",
   "metadata": {},
   "outputs": [
    {
     "data": {
      "text/plain": [
       "<matplotlib.image.AxesImage at 0x29b4ff5d670>"
      ]
     },
     "execution_count": 409,
     "metadata": {},
     "output_type": "execute_result"
    },
    {
     "data": {
      "image/png": "[encoded data removed]",
      "text/plain": [
       "<Figure size 432x288 with 1 Axes>"
      ]
     },
     "metadata": {
      "needs_background": "light"
     },
     "output_type": "display_data"
    }
   ],
   "source": [
    "plt.imshow(wrap_thres)"
   ]
  },
  {
   "cell_type": "code",
   "execution_count": 410,
   "id": "061efed6",
   "metadata": {},
   "outputs": [],
   "source": [
    "imagecopy = wrap.copy()"
   ]
  },
  {
   "cell_type": "code",
   "execution_count": 411,
   "id": "1969ac7d",
   "metadata": {},
   "outputs": [],
   "source": [
    "for c in qpts:\n",
    "    cv2.drawContours(imagecopy,c,-1,(0,0,255),3)"
   ]
  },
  {
   "cell_type": "code",
   "execution_count": 412,
   "id": "259d9c4e",
   "metadata": {},
   "outputs": [],
   "source": [
    "while True:\n",
    "    cv2.imshow('wrap',imagecopy)\n",
    "    if cv2.waitKey(1) & 0XFF==27:\n",
    "        break\n",
    "cv2.destroyAllWindows()"
   ]
  },
  {
   "cell_type": "markdown",
   "id": "bd1bc562",
   "metadata": {},
   "source": [
    "# Sorting the contours"
   ]
  },
  {
   "cell_type": "code",
   "execution_count": 424,
   "id": "22b7c936",
   "metadata": {},
   "outputs": [],
   "source": [
    "list = []\n",
    "for i,c in enumerate(qpts):\n",
    "    M = cv2.moments(c)\n",
    "    cx = int(M['m10']/M['m00'])\n",
    "    cy = int(M['m01']/M['m00'])\n",
    "    list.append([cx,cy])"
   ]
  },
  {
   "cell_type": "code",
   "execution_count": 425,
   "id": "9975f165",
   "metadata": {},
   "outputs": [
    {
     "data": {
      "text/plain": [
       "[[264, 286],\n",
       " [219, 286],\n",
       " [174, 286],\n",
       " [130, 286],\n",
       " [84, 286],\n",
       " [264, 233],\n",
       " [219, 233],\n",
       " [174, 233],\n",
       " [130, 233],\n",
       " [85, 233],\n",
       " [264, 180],\n",
       " [219, 180],\n",
       " [174, 180],\n",
       " [130, 180],\n",
       " [85, 180],\n",
       " [264, 127],\n",
       " [219, 127],\n",
       " [174, 126],\n",
       " [130, 126],\n",
       " [85, 126],\n",
       " [264, 74],\n",
       " [219, 74],\n",
       " [174, 74],\n",
       " [130, 74],\n",
       " [85, 73]]"
      ]
     },
     "execution_count": 425,
     "metadata": {},
     "output_type": "execute_result"
    }
   ],
   "source": [
    "list"
   ]
  },
  {
   "cell_type": "code",
   "execution_count": 426,
   "id": "3d1719d7",
   "metadata": {},
   "outputs": [],
   "source": [
    "list = sorted(list,key = lambda l:l[1])"
   ]
  },
  {
   "cell_type": "code",
   "execution_count": 427,
   "id": "dc33ae58",
   "metadata": {},
   "outputs": [
    {
     "data": {
      "text/plain": [
       "25"
      ]
     },
     "execution_count": 427,
     "metadata": {},
     "output_type": "execute_result"
    }
   ],
   "source": [
    "len(list)"
   ]
  },
  {
   "cell_type": "code",
   "execution_count": 428,
   "id": "a74fb7b0",
   "metadata": {},
   "outputs": [],
   "source": [
    "qpts_sorted = np.array(list)"
   ]
  },
  {
   "cell_type": "code",
   "execution_count": 429,
   "id": "05813d1c",
   "metadata": {},
   "outputs": [],
   "source": [
    "qpts_sorted = np.expand_dims(qpts_sorted,axis=1)"
   ]
  },
  {
   "cell_type": "code",
   "execution_count": 430,
   "id": "e007d21c",
   "metadata": {},
   "outputs": [
    {
     "data": {
      "text/plain": [
       "(25, 1, 2)"
      ]
     },
     "execution_count": 430,
     "metadata": {},
     "output_type": "execute_result"
    }
   ],
   "source": [
    "qpts_sorted.shape"
   ]
  },
  {
   "cell_type": "code",
   "execution_count": 431,
   "id": "e101fc52",
   "metadata": {},
   "outputs": [],
   "source": [
    "qpts_sorted = qpts_sorted.reshape(5,5,2)"
   ]
  },
  {
   "cell_type": "code",
   "execution_count": 433,
   "id": "f4b27a9e",
   "metadata": {},
   "outputs": [
    {
     "data": {
      "text/plain": [
       "array([[[ 85,  73],\n",
       "        [264,  74],\n",
       "        [219,  74],\n",
       "        [174,  74],\n",
       "        [130,  74]],\n",
       "\n",
       "       [[174, 126],\n",
       "        [130, 126],\n",
       "        [ 85, 126],\n",
       "        [264, 127],\n",
       "        [219, 127]],\n",
       "\n",
       "       [[264, 180],\n",
       "        [219, 180],\n",
       "        [174, 180],\n",
       "        [130, 180],\n",
       "        [ 85, 180]],\n",
       "\n",
       "       [[264, 233],\n",
       "        [219, 233],\n",
       "        [174, 233],\n",
       "        [130, 233],\n",
       "        [ 85, 233]],\n",
       "\n",
       "       [[264, 286],\n",
       "        [219, 286],\n",
       "        [174, 286],\n",
       "        [130, 286],\n",
       "        [ 84, 286]]])"
      ]
     },
     "execution_count": 433,
     "metadata": {},
     "output_type": "execute_result"
    }
   ],
   "source": [
    "qpts_sorted"
   ]
  },
  {
   "cell_type": "code",
   "execution_count": 434,
   "id": "840f5a89",
   "metadata": {},
   "outputs": [],
   "source": [
    "qpts_sorted_copy = qpts_sorted"
   ]
  },
  {
   "cell_type": "code",
   "execution_count": 436,
   "id": "c508f40d",
   "metadata": {},
   "outputs": [],
   "source": [
    "mylist = []\n",
    "for i in range(5):\n",
    "    list = qpts_sorted_copy[i].copy()\n",
    "    list = sorted(list,key=lambda k:k[0])\n",
    "    mylist.append(list)"
   ]
  },
  {
   "cell_type": "code",
   "execution_count": 437,
   "id": "203db5d8",
   "metadata": {},
   "outputs": [
    {
     "data": {
      "text/plain": [
       "[[array([85, 73]),\n",
       "  array([130,  74]),\n",
       "  array([174,  74]),\n",
       "  array([219,  74]),\n",
       "  array([264,  74])],\n",
       " [array([ 85, 126]),\n",
       "  array([130, 126]),\n",
       "  array([174, 126]),\n",
       "  array([219, 127]),\n",
       "  array([264, 127])],\n",
       " [array([ 85, 180]),\n",
       "  array([130, 180]),\n",
       "  array([174, 180]),\n",
       "  array([219, 180]),\n",
       "  array([264, 180])],\n",
       " [array([ 85, 233]),\n",
       "  array([130, 233]),\n",
       "  array([174, 233]),\n",
       "  array([219, 233]),\n",
       "  array([264, 233])],\n",
       " [array([ 84, 286]),\n",
       "  array([130, 286]),\n",
       "  array([174, 286]),\n",
       "  array([219, 286]),\n",
       "  array([264, 286])]]"
      ]
     },
     "execution_count": 437,
     "metadata": {},
     "output_type": "execute_result"
    }
   ],
   "source": [
    "mylist"
   ]
  },
  {
   "cell_type": "code",
   "execution_count": 438,
   "id": "79ba1ee8",
   "metadata": {},
   "outputs": [],
   "source": [
    "my_list_arr = np.array(mylist)"
   ]
  },
  {
   "cell_type": "code",
   "execution_count": 439,
   "id": "0fd4cc3e",
   "metadata": {},
   "outputs": [
    {
     "data": {
      "text/plain": [
       "array([[[ 85,  73],\n",
       "        [130,  74],\n",
       "        [174,  74],\n",
       "        [219,  74],\n",
       "        [264,  74]],\n",
       "\n",
       "       [[ 85, 126],\n",
       "        [130, 126],\n",
       "        [174, 126],\n",
       "        [219, 127],\n",
       "        [264, 127]],\n",
       "\n",
       "       [[ 85, 180],\n",
       "        [130, 180],\n",
       "        [174, 180],\n",
       "        [219, 180],\n",
       "        [264, 180]],\n",
       "\n",
       "       [[ 85, 233],\n",
       "        [130, 233],\n",
       "        [174, 233],\n",
       "        [219, 233],\n",
       "        [264, 233]],\n",
       "\n",
       "       [[ 84, 286],\n",
       "        [130, 286],\n",
       "        [174, 286],\n",
       "        [219, 286],\n",
       "        [264, 286]]])"
      ]
     },
     "execution_count": 439,
     "metadata": {},
     "output_type": "execute_result"
    }
   ],
   "source": [
    "my_list_arr"
   ]
  },
  {
   "cell_type": "code",
   "execution_count": 440,
   "id": "812538fe",
   "metadata": {},
   "outputs": [],
   "source": [
    "key = []\n",
    "for i in range(5):\n",
    "    total = 0\n",
    "    index = 0\n",
    "    for j in range(5):\n",
    "        mask = np.zeros_like(wrap_thres)\n",
    "        for c in qpts:\n",
    "            M = cv2.moments(c)\n",
    "            cx = int(M['m10']/M['m00'])\n",
    "            cy = int(M['m01']/M['m00'])\n",
    "            if((cx,cy)==(my_list_arr[i][j][0],my_list_arr[i][j][1])):\n",
    "                area = M['m00']\n",
    "                radius = np.sqrt(area/np.pi)\n",
    "                mask = cv2.circle(mask,(cx,cy),int(radius),255,-1)\n",
    "                masked = cv2.bitwise_and(wrap_thres,wrap_thres,mask=mask) \n",
    "                pixels = cv2.countNonZero(masked)\n",
    "                #checking the max\n",
    "                if (pixels>total):\n",
    "                    total = pixels\n",
    "                    index = j\n",
    "    key.append(index)             "
   ]
  },
  {
   "cell_type": "code",
   "execution_count": 441,
   "id": "ff4e50b3",
   "metadata": {},
   "outputs": [
    {
     "data": {
      "text/plain": [
       "[1, 4, 0, 2, 1]"
      ]
     },
     "execution_count": 441,
     "metadata": {},
     "output_type": "execute_result"
    }
   ],
   "source": [
    "key"
   ]
  },
  {
   "cell_type": "code",
   "execution_count": 442,
   "id": "0dd40da1",
   "metadata": {},
   "outputs": [],
   "source": [
    "ans = [1,4,0,3,1]"
   ]
  },
  {
   "cell_type": "code",
   "execution_count": 443,
   "id": "c28b89f0",
   "metadata": {},
   "outputs": [],
   "source": [
    "score = 0\n",
    "for i in range(len(key)):\n",
    "    if key[i]==ans[i]:\n",
    "        score+=1"
   ]
  },
  {
   "cell_type": "code",
   "execution_count": 444,
   "id": "6ac1cd8a",
   "metadata": {},
   "outputs": [],
   "source": [
    "final_score = score/len(key)*100"
   ]
  },
  {
   "cell_type": "code",
   "execution_count": 445,
   "id": "1803f9ea",
   "metadata": {},
   "outputs": [],
   "source": [
    "wrap_copy = wrap.copy()"
   ]
  },
  {
   "cell_type": "code",
   "execution_count": 446,
   "id": "923d21fc",
   "metadata": {},
   "outputs": [],
   "source": [
    "while True:\n",
    "    cv2.putText(wrap_copy,'score {}%'.format(final_score),(120,20),cv2.FONT_HERSHEY_PLAIN,2,(255,0,0),2)\n",
    "    cv2.imshow('wrap',wrap_copy)\n",
    "    if cv2.waitKey(1) & 0XFF==27:\n",
    "        break\n",
    "cv2.destroyAllWindows()        "
   ]
  }
 ],
 "metadata": {
  "kernelspec": {
   "display_name": "Python 3",
   "language": "python",
   "name": "python3"
  },
  "language_info": {
   "codemirror_mode": {
    "name": "ipython",
    "version": 3
   },
   "file_extension": ".py",
   "mimetype": "text/x-python",
   "name": "python",
   "nbconvert_exporter": "python",
   "pygments_lexer": "ipython3",
   "version": "3.8.8"
  }
 },
 "nbformat": 4,
 "nbformat_minor": 5
}
